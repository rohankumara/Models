{
 "cells": [
  {
   "cell_type": "markdown",
   "metadata": {},
   "source": [
    "# Cost Function using python"
   ]
  },
  {
   "cell_type": "code",
   "execution_count": 4,
   "metadata": {},
   "outputs": [],
   "source": [
    "#%matplotlib notebook\n",
    "import matplotlib.pyplot as plt"
   ]
  },
  {
   "cell_type": "code",
   "execution_count": 1,
   "metadata": {},
   "outputs": [],
   "source": [
    "def cost(i=0,table=[]):\n",
    "    \"\"\"cost function colect table x and y value and calculate cost\"\"\"\n",
    "    sum = 0\n",
    "    x_data = list(range(3))\n",
    "    y_data = list(range(3))\n",
    "    x_func = [x[0] for x in table]\n",
    "    y_func = [x[1] for x in table]\n",
    "    plt.scatter(x_data, y_data, c='r', label='expect')\n",
    "    plt.plot(x_func, y_func, label='actual')\n",
    "    plt.xlabel('x')\n",
    "    plt.ylabel('y')\n",
    "    plt.title('Cost Function')\n",
    "    plt.legend()\n",
    "    plt.show()\n",
    "    m = len(table)\n",
    "    for x in table:\n",
    "        def hx(q1,q2,x):\n",
    "            print(x)\n",
    "            hx =q1+(q2*x)\n",
    "            print(hx)\n",
    "            return hx\n",
    "        print(x[0],x[1])\n",
    "        sum = ((x[1]-x[0])**2) +sum\n",
    "        print(sum)\n",
    "    return print((1/(2*m))*sum)\n",
    "            "
   ]
  },
  {
   "cell_type": "code",
   "execution_count": 2,
   "metadata": {},
   "outputs": [],
   "source": [
    "table1 =[[0,0],[1,0.5],[2,1],[3,1.5]]"
   ]
  },
  {
   "cell_type": "code",
   "execution_count": 5,
   "metadata": {},
   "outputs": [
    {
     "data": {
      "image/png": "[encoded data removed]",
      "text/plain": [
       "<Figure size 432x288 with 1 Axes>"
      ]
     },
     "metadata": {
      "needs_background": "light"
     },
     "output_type": "display_data"
    },
    {
     "name": "stdout",
     "output_type": "stream",
     "text": [
      "0 0\n",
      "0\n",
      "1 0.5\n",
      "0.25\n",
      "2 1\n",
      "1.25\n",
      "3 1.5\n",
      "3.5\n",
      "0.4375\n"
     ]
    }
   ],
   "source": [
    "cost(1,table1)"
   ]
  },
  {
   "cell_type": "code",
   "execution_count": null,
   "metadata": {},
   "outputs": [],
   "source": []
  }
 ],
 "metadata": {
  "kernelspec": {
   "display_name": "Python 3",
   "language": "python",
   "name": "python3"
  },
  "language_info": {
   "codemirror_mode": {
    "name": "ipython",
    "version": 3
   },
   "file_extension": ".py",
   "mimetype": "text/x-python",
   "name": "python",
   "nbconvert_exporter": "python",
   "pygments_lexer": "ipython3",
   "version": "3.8.5"
  }
 },
 "nbformat": 4,
 "nbformat_minor": 4
}
