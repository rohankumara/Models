{
  "cells": [
    {
      "metadata": {
        "collapsed": true
      },
      "cell_type": "markdown",
      "source": "Exercise 7 - Advanced Support Vector Machines\n=====\n\nSupport vector machines let us predict catergories. In this example we will be looking at practically using SVMs by formatting data correctly, visualising the SVM model and then evaluating the SVM model.\n\nWe will be looking at __prions__ - misfolded proteins that are associated with several fatal neurodegenerative diseases (kind of like Daleks, if you have seen Doctor Who). Looking at examples of proteins mass and weight, we will build a predictive model to detect prions in blood samples."
    },
    {
      "metadata": {
        "trusted": true
      },
      "cell_type": "code",
      "source": "# Run this code!\n# It sets up the graphing configuration\nimport warnings\nwarnings.filterwarnings(\"ignore\")\nimport matplotlib.pyplot as graph\n%matplotlib inline\ngraph.rcParams['figure.figsize'] = (15,5)\ngraph.rcParams[\"font.family\"] = 'DejaVu Sans'\ngraph.rcParams[\"font.size\"] = '12'\ngraph.rcParams['image.cmap'] = 'rainbow'",
      "execution_count": null,
      "outputs": []
    },
    {
      "metadata": {},
      "cell_type": "markdown",
      "source": "Step 1\n-----\n\nLets load up the data first, and save it temporarily as myData. Our dataset is called \"PrionData.csv\""
    },
    {
      "metadata": {
        "trusted": true
      },
      "cell_type": "code",
      "source": "import pandas as pd\nimport numpy as np\n\n###---REPLACE ??? BELOW WITH 'Data/PrionData.csv' (INCLUDING THE QUOTES) TO LOAD THE DATA FROM THAT FILE \nmyData = pd.read_csv(???)\n###",
      "execution_count": null,
      "outputs": []
    },
    {
      "metadata": {},
      "cell_type": "markdown",
      "source": "Step 2\n-----\n\nLets take a look at the data.\n\nWe'll just look at the very top of the data set using the `dataset.head()` function"
    },
    {
      "metadata": {
        "trusted": true
      },
      "cell_type": "code",
      "source": "###--- WRITE print(myData.head()) TO VIEW THE TOP 5 DATA POINTS OF THE DATA SET ---###\n\n###",
      "execution_count": null,
      "outputs": []
    },
    {
      "metadata": {},
      "cell_type": "markdown",
      "source": "Looks like we have an extra column, this happens regularly when exporting data sets from a program like Excel and then importing them into a dataframe.\n\nStep 3\n-----\n\nLets get rid of that extra column, and then check that it's gone. You don't have to code anything here."
    },
    {
      "metadata": {
        "trusted": true
      },
      "cell_type": "code",
      "source": "data = myData.drop(['Unnamed: 0'], axis = 1)\nprint(data.head())",
      "execution_count": null,
      "outputs": []
    },
    {
      "metadata": {},
      "cell_type": "markdown",
      "source": "All gone!\n\nStep 4\n-----\n\nLet's graph the data set to better understand what we're working with.\n\nLooking at the output of the last step we can see the 'categories' we're looking at is called __prion_status__ (the label).\n\nFill in the ???'s below with our variables __mass__ and __weight__."
    },
    {
      "metadata": {
        "trusted": true
      },
      "cell_type": "code",
      "source": "###--- REPLACE THE ??? BELOW WITH 'mass' (INCLUDING THE QUOTES) ---###\nX = data[???]\n###\n\n###--- REPLACE THE ??? BELOW WITH 'weight' (INCLUDING THE QUOTES) ---###\nY = data[???]\n###\n\ntarget = [1 if data['prion_status'][n] == 'prion' else 0 for n in range(0, data['prion_status'].shape[0])]\n\ngraph.scatter(X, Y, c = target, zorder = 10, s = 40)\n\ngraph.title(\"classification plot for prion data\")\ngraph.ylabel(\"mass\")\ngraph.xlabel(\"weight\")\n\ngraph.show()",
      "execution_count": null,
      "outputs": []
    },
    {
      "metadata": {},
      "cell_type": "markdown",
      "source": "Step 5\n-------\n\nLet's split up our data into test and training sets. We'll start by checking the total number of instances in our dataset by using the DataFrame attribute *shape*. The first number is the one we want."
    },
    {
      "metadata": {
        "trusted": true
      },
      "cell_type": "code",
      "source": "###--- REPLACE THE ??? BELOW WITH THE NAME OF THE ATTRIBUTE WE WANT TO LOOK AT - shape ---###\ndata.???\n###",
      "execution_count": null,
      "outputs": []
    },
    {
      "metadata": {},
      "cell_type": "markdown",
      "source": "Step 6\n-----\n\nThat's a decent number! We'll use 400 examples for our training set, and the remainder for our test set."
    },
    {
      "metadata": {
        "trusted": true
      },
      "cell_type": "code",
      "source": "# This makes our training set out of the first 400 examples\ntrain_X = data.drop(['prion_status'], 1).truncate(after = 399)\ntrain_Y = data['prion_status'].truncate(after = 399)",
      "execution_count": null,
      "outputs": []
    },
    {
      "metadata": {
        "trusted": true
      },
      "cell_type": "code",
      "source": "###--- REPLACE THE ???s BELOW WITH 400 TO MAKE THE TEST SET OUT OF THE REMAINING EXAMPLES ---###\ntest_X = data.drop(['prion_status'], 1).truncate(before = ???).reset_index(drop = True)\ntest_Y = data['prion_status'].truncate(before = ???).reset_index(drop = True)\n###",
      "execution_count": null,
      "outputs": []
    },
    {
      "metadata": {},
      "cell_type": "markdown",
      "source": "Step 7\n-----\n\nWell done! Lets look at a summary of our training data. Below type in: `train_X.describe()` to get a better idea of what we're dealing with."
    },
    {
      "metadata": {
        "trusted": true
      },
      "cell_type": "code",
      "source": "###--- REPLACE THE ???s BELOW WITH 'describe()' ---###\nprint(train_X.???)\nprint(train_Y.???)\n###",
      "execution_count": null,
      "outputs": []
    },
    {
      "metadata": {},
      "cell_type": "markdown",
      "source": "314 non-prions out of 400, which means there's 86 prions in there. That looks about right if we refer to the graph we made in Step 4.\n\nLet's take a look at our test set too. Use the `describe()` function again, this time looking at __test__ instead of train."
    },
    {
      "metadata": {
        "trusted": true
      },
      "cell_type": "code",
      "source": "###--- CODE THE DESCRIBE FUNCTION BELOW ---###\nprint(test_X.???)\nprint(test_Y.???)\n###",
      "execution_count": null,
      "outputs": []
    },
    {
      "metadata": {},
      "cell_type": "markdown",
      "source": "Looks good to me! Alright, enough of that - lets make an SVM.\n\nStep 8\n-----\n\nBelow we will make an SVM, similar to the previous exercise.\n\nRemember, the syntax for SVM's is:\n\n`SVM_Model = svm.SVC().fit(features, labels)`"
    },
    {
      "metadata": {
        "trusted": true
      },
      "cell_type": "code",
      "source": "from sklearn import svm\nSVM_Model = svm.SVC(gamma = 'auto')\n\n### REPLACE THE ???'S BELOW WITH OUR FEATURES train_X AND LABELS train_Y ---###\nSVM_Model = svm.SVC(gamma = 'auto').fit(???, ???)\n###",
      "execution_count": null,
      "outputs": []
    },
    {
      "metadata": {},
      "cell_type": "markdown",
      "source": "Well done! We've made a SVM Model from our training set.\n\nStep 9\n-----\n\nLets use our model to make some predictions. Fill in the ???'s below with the data we want to predict."
    },
    {
      "metadata": {
        "trusted": true
      },
      "cell_type": "code",
      "source": "###--- REPLACE THE ???'S BELOW WITH OUR train_X AND test_X FEATURE SETS TO GENERATE THE PREDICTIONS ---###\ntrain_P = SVM_Model.predict(???.values)\ntest_P = SVM_Model.predict(???.values)\n###",
      "execution_count": null,
      "outputs": []
    },
    {
      "metadata": {
        "trusted": true
      },
      "cell_type": "code",
      "source": "# Don't edit!\n# This changes our labels so that 1 = prion and 0 = non-prion\ndef numericise(data):\n    return np.asarray([1 if data[n] == 'prion' else 0 for n in range(0, np.asarray(data).shape[0])])",
      "execution_count": null,
      "outputs": []
    },
    {
      "metadata": {},
      "cell_type": "markdown",
      "source": "Now to plot it!"
    },
    {
      "metadata": {
        "trusted": true
      },
      "cell_type": "code",
      "source": "# Don't edit this! It's our method to plot the graph\n\ndef plotSVM(clf, data, target):\n    #numericise our target set\n    target = numericise(target)\n\n    graph.scatter(data['mass'], data['weight'], c = target, zorder = 10, edgecolor = 'k', s = 40)\n    \n    # Put the result into a colour plot\n    XX, YY = np.mgrid[0:1:255j, 0:1:255j]\n    Z = clf.decision_function(np.c_[XX.ravel(), YY.ravel()]).reshape(XX.shape)\n    graph.pcolormesh(XX, YY, Z > 0)\n    graph.contour(XX, YY, Z, colors = ['k', 'k', 'k'], linestyles = ['--', '-', '--'], levels = [-.5, 0, .5])\n    \n    graph.ylim(0, 1)\n    graph.xlim(0, 1)\n    \n    graph.show()",
      "execution_count": null,
      "outputs": []
    },
    {
      "metadata": {
        "trusted": true
      },
      "cell_type": "code",
      "source": "plotSVM(SVM_Model, train_X, train_Y)",
      "execution_count": null,
      "outputs": []
    },
    {
      "metadata": {},
      "cell_type": "markdown",
      "source": "Step 10\n-----\n\nLooks good to me. Now lets take a look at our test set.\n\nRemember the syntax for plotting SVM's is:\n`plot(SVM_Model, features, labels)`\n\nAdd our __test__ set below to see how it looks"
    },
    {
      "metadata": {
        "trusted": true
      },
      "cell_type": "code",
      "source": "###--- REPLACE THE ???s BELOW WITH test_X AND test_Y ---###\nplotSVM(SVM_Model, ???, ???)\n###",
      "execution_count": null,
      "outputs": []
    },
    {
      "metadata": {
        "trusted": true
      },
      "cell_type": "code",
      "source": "# Run this code too!\n# But don't edit it - this is a function to evaluate the SVM's accuracy\ndef evaluateSVM(pred, real, name):\n    pred, real = numericise(pred), numericise(real)\n    x = 0\n    for i in range(0, real.shape[0]):\n        if pred[i] == real[i]:\n            x = x + 1\n    print(name, \"Set Accuracy:\", x / real.shape[0] * 100, \"%\")",
      "execution_count": null,
      "outputs": []
    },
    {
      "metadata": {},
      "cell_type": "markdown",
      "source": "Step 11\n-----\n\nNearly there. Let's take a look at our training and test set."
    },
    {
      "metadata": {
        "trusted": true
      },
      "cell_type": "code",
      "source": "###--- REPLACE THE ???s BELOW WITH TO EVALUATE OUR train_Y AND test_Y SETS ---###\nevaluateSVM(train_P, ???, 'Train')\nevaluateSVM(test_P, ???, 'Test')\n###",
      "execution_count": null,
      "outputs": []
    },
    {
      "metadata": {},
      "cell_type": "markdown",
      "source": "That's a good result. \n\nConclusion\n------\n\nWell done! We've taken a data set, cleaned and prepared it, made a SVM, and then evaluated it. Well done!\n\nYou can go back to the course now, or you can carry on playing around with different SVM Kernels below. It doesn't take long to switch kernels."
    },
    {
      "metadata": {},
      "cell_type": "markdown",
      "source": "OPTIONAL: Step 12\n-----\n\nWant to have a play around with different kernels for your SVM models? It's really easy!\n\nThe standard kernel is a Radial Basis Function kernel. But there's a few more you can choose from - linear (`linear`), polynomial (`poly`), and sigmoid (`sigmoid`). Lets try them out.\n\nIf you wanted to use a linear kernel, all you need to do is add `kernel='linear'` to your model. Like this:\n\n`SVM_Model = svm.SVC(kernel='linear')`\n\nGive it a go with all the different kernels below. The first one is done for you"
    },
    {
      "metadata": {
        "trusted": true
      },
      "cell_type": "code",
      "source": "# Make a new linear SVM model\nSVM_Model = svm.SVC(kernel = 'linear').fit(train_X, train_Y)\n\n# Plot the new linear SVM model\nplotSVM(SVM_Model, train_X, train_Y)\nplotSVM(SVM_Model, test_X, test_Y)\n\n# Use the model to predict the training and test sets.\ntrain_P = SVM_Model.predict(train_X.values)\ntest_P = SVM_Model.predict(test_X.values)\n\n# Evaluate the model using the training and test sets\nevaluateSVM(train_P, train_Y, 'Train')\nevaluateSVM(test_P, test_Y, 'Test')",
      "execution_count": null,
      "outputs": []
    },
    {
      "metadata": {},
      "cell_type": "markdown",
      "source": "You can see the hyperplane is a lienar line!\n\nNow lets try a sigmoid kernel"
    },
    {
      "metadata": {
        "trusted": true
      },
      "cell_type": "code",
      "source": "# Make a new sigmoid SVM model\n\n###--- REPLACE THE ??? BELOW WITH 'sigmoid' (INCLUDING THE QUOTES) ---###\nSVM_Model = svm.SVC(kernel = ???, gamma = 4, coef0 = 0).fit(train_X, train_Y)\n###\n\nplotSVM(SVM_Model, train_X, train_Y)\nplotSVM(SVM_Model, test_X, test_Y)\n\ntrain_P = SVM_Model.predict(train_X.values)\ntest_P = SVM_Model.predict(test_X.values)\n\nevaluateSVM(train_P, train_Y, 'Train')\nevaluateSVM(test_P, test_Y, 'Test')",
      "execution_count": null,
      "outputs": []
    },
    {
      "metadata": {},
      "cell_type": "markdown",
      "source": "Perhaps a sigmoid kernel isn't a good idea for this data set....\n\nLets try a polynomial kernel"
    },
    {
      "metadata": {
        "trusted": true
      },
      "cell_type": "code",
      "source": "# Make a new polynomial SVM model\n\n###--- REPLACE THE ??? BELOW WITH 'poly' (INCLUDING THE QUOTES) ---###\nSVM_Model = svm.SVC(kernel = ???, gamma = 10, degree = 3, coef0 = 0).fit(train_X, train_Y)\n###\n\nplotSVM(SVM_Model, train_X, train_Y)\nplotSVM(SVM_Model, test_X, test_Y)\n\ntrain_P = SVM_Model.predict(train_X.values)\n###--- TRY TO FILL THIS ONE IN BY YOURSELF BY LOOKING AT WHAT WE'VE DONE PREVIOUSLY ---###\ntest_P = ???(test_X.values)\n###\n\nevaluateSVM(train_P, train_Y, 'Train')\nevaluateSVM(test_P, test_Y, 'Test')",
      "execution_count": null,
      "outputs": []
    },
    {
      "metadata": {},
      "cell_type": "markdown",
      "source": "If we were to carry on analyzing prions like this, polynomial looks like a good choice. If the data set was more complicated we could try different degrees for the polynomial to see which one was the most accurate. This is __`tuning`__ a model.\n\nWell done!"
    },
    {
      "metadata": {
        "trusted": true
      },
      "cell_type": "code",
      "source": "",
      "execution_count": null,
      "outputs": []
    }
  ],
  "metadata": {
    "kernelspec": {
      "name": "python36",
      "display_name": "Python 3.6",
      "language": "python"
    },
    "language_info": {
      "mimetype": "text/x-python",
      "nbconvert_exporter": "python",
      "name": "python",
      "pygments_lexer": "ipython3",
      "version": "3.6.3",
      "file_extension": ".py",
      "codemirror_mode": {
        "version": 3,
        "name": "ipython"
      }
    }
  },
  "nbformat": 4,
  "nbformat_minor": 2
}