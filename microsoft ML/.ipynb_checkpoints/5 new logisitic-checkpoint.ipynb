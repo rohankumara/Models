{
  "cells": [
    {
      "metadata": {
        "collapsed": true
      },
      "cell_type": "markdown",
      "source": "Exercise 5 - Logistic Regression\n=====\nLogistic regression predicts binary (yes/no) events. For example, we may want to predict if someone will arrive at work on time, or if a person shopping will buy a product. \n\nThis exercise will demonstrate simple logistic regression: predicting an outcome from only one feature.\n\nStep 1\n-----\n\nWe want to place a bet on the outcome of the next football (soccer) match. It is the final of a competition, so there will not be a draw. We have historical data about our favourite team playing in matches such as this. Complete the exercise below to see this data."
    },
    {
      "metadata": {
        "trusted": true
      },
      "cell_type": "code",
      "source": "# Sets up the graphing configuration\nimport warnings\nwarnings.filterwarnings(\"ignore\")\nimport matplotlib.pyplot as graph\n%matplotlib inline\ngraph.rcParams['figure.figsize'] = (15,5)\ngraph.rcParams[\"font.family\"] = 'DejaVu Sans'\ngraph.rcParams[\"font.size\"] = '12'\ngraph.rcParams['image.cmap'] = 'rainbow'",
      "execution_count": null,
      "outputs": []
    },
    {
      "metadata": {
        "trusted": true
      },
      "cell_type": "code",
      "source": "import pandas as pd\n\n###--- REPLACE ??? BELOW WITH 'Data/football data.txt' (INCLUDING THE QUOTES) TO LOAD THE DATA FROM THAT FILE ---###\ndata = pd.read_csv(???, index_col = False, sep = '\\t', header = 0)\n###\n\n###--- WRITE print(data.head()) BELOW TO PREVIEW THE DATA ---###\n\n###",
      "execution_count": null,
      "outputs": []
    },
    {
      "metadata": {},
      "cell_type": "markdown",
      "source": "This data shows the average goals per match of our team for that season in the left column. In the right column it lists a 1 if our team won the competition or a 0 if they did not.\n\nStep 2\n----\nLet's graph the data so we have a better idea of what's going on here. Complete the exercise below to make an x-y scatter plot."
    },
    {
      "metadata": {
        "trusted": true
      },
      "cell_type": "code",
      "source": "###--- REPLACE ??? BELOW WITH 'won_competition' (INCLUDING THE QUOTES) ---###\ny = data[???]\n###\n\n###--- REPLACE ??? BELOW WITH 'average_goals_per_match' (INCLUDING THE QUOTES) ---###\nx = data[???]\n###\n\n# The 'won_competition' will be displayed on the vertical axis (y axis)\n# The 'average_goals_per_match' will be displayed on the horizontal axis (x axis)\n\ngraph.scatter(x, y, c = y, marker = 'D')\n\ngraph.yticks([0, 1], ['No', 'Yes'])\ngraph.ylabel(\"Competition Win\")\ngraph.ylim([-0.5, 1.5])\ngraph.xlabel(\"Average number of goals scored per match\")\n\ngraph.show()",
      "execution_count": null,
      "outputs": []
    },
    {
      "metadata": {},
      "cell_type": "markdown",
      "source": "We can see from this graph that generally, when our team has a good score average, they tend to win the competition.\n\nStep 3\n----\nSo, let's apply AI to this problem. We'll make a logisitic regression model using this data and then graph it. This will tell us whether we will likely win this season.\n\nComplete the exercise below to make the logistic regression model"
    },
    {
      "metadata": {
        "trusted": true
      },
      "cell_type": "code",
      "source": "import numpy as np\nfrom sklearn import linear_model\n\n# Here we build a logistic regression model\n\n###--- REPLACE ??? BELOW WITH linear_model.LogisticRegression() TO BUILD A LOGISTIC REGRESSION MODEL ---###\nclf = ???\n###\n\n# This step fits (calculates) the model\n# We are using our feature (x - number of goals scored) and our outcome/label (y - won/lost)\nclf.fit(x[:, np.newaxis], y)\n\n# This works out the loss\ndef sigmoid(x):\n    return 1 / (1 + np.exp(-x))\nX_test = np.linspace(0, 3, 300)\nloss = sigmoid(X_test * clf.coef_ + clf.intercept_).ravel()",
      "execution_count": null,
      "outputs": []
    },
    {
      "metadata": {},
      "cell_type": "markdown",
      "source": "Alright, that's the model done. Now run the code below to graph it"
    },
    {
      "metadata": {
        "trusted": true
      },
      "cell_type": "code",
      "source": "# This makes the graph\n# The data points\ngraph.scatter(x, y, c = y, marker = 'D')\n# The curve\ngraph.plot(X_test, loss, color = 'gold', linewidth = 3)\n# Define the y-axis\ngraph.yticks([0, 1], ['No = 0.0', 'Yes = 1.0'])\ngraph.ylabel(\"Competition Win Likelihood\")\ngraph.xlabel(\"Average number of goals per match\")\ngraph.show()",
      "execution_count": null,
      "outputs": []
    },
    {
      "metadata": {},
      "cell_type": "markdown",
      "source": "We now have a line fit to our data. This yellow line is our logistic regression model.\n\nStep 4\n------\n\nWe can read the model above like so:\n* Take the average number of goals per match for the current year. Let's say it is 2.5.\n* Find 2.5 on the x-axis. \n* What value (on the y axis) does the line have at x=2.5?\n* If this value is above 0.5, then the model thinks our team will win this year. If it is less than 0.5, it thinks our team will lose.\n\nBecause this line is just a mathematical function (equation) we don't have to do this visually.\n\nIn the exercise below, __choose the number of goals you want to evaluate__.\n\nThe code will calculate the probability that our team will win with your chosen number of goals in the match."
    },
    {
      "metadata": {
        "trusted": true
      },
      "cell_type": "code",
      "source": "###--- REPLACE ??? BELOW WITH THE NUMBER OF GOALS IN A MATCH THIS YEAR. USE ANY NUMBER BETWEEN 0 AND 3 ---###\np = ???\n###\n\n# Next we're going to use our model again - clf is the name of our model.\n# We'll use a method to predict the probability of a positive result\n# Use the variable p which we just made in this method.\n\n###--- REPLACE ??? BELOW WITH p TO PREDICT USING THIS VALUE ---###\nprobOfWinning = clf.predict_proba(???)[0][1]\n###\n\n# This prints out the result\nprint(\"Probability of winning this year\")\nprint(str(probOfWinning * 100) + \"%\")\n\n# This plots the result\ngraph.scatter(x, y, c = y, marker = 'D')\ngraph.yticks([0, probOfWinning, 1], ['No = 0.0', round(probOfWinning,3), 'Yes = 1.0'])\ngraph.plot(X_test, loss, color = 'gold', linewidth = 3)\n\ngraph.plot(p, probOfWinning, 'ko') # result point\ngraph.plot(np.linspace(0, p, 2), np.full([2],probOfWinning), dashes = [6, 3], color = 'black') # dashed lines (to y-axis)\ngraph.plot(np.full([2],p), np.linspace(0, probOfWinning, 2), dashes = [6, 3], color = 'black') # dashed lines (to x-axis)\n\ngraph.ylabel(\"Competition Win Likelihood\")\ngraph.xlabel(\"Average number of goals per match\")\ngraph.show()",
      "execution_count": null,
      "outputs": []
    },
    {
      "metadata": {},
      "cell_type": "markdown",
      "source": "Well done! We have calculated the likelihood that our team will win this year's competition.\n\nOptional: Step 5\n-----\nOf course, these predictions are only one model.\n\nLet's return to what we did in step 3, but we'll replace `linear_model.LogisticRegression()` with `linear_model.LogisticRegression(C=200)`. This will tell the model to make a steeper decision boundary. Then repeat Step 4 with this boundary. Did your results change?\n\nThere are methods we can use to choose sensible parameters for many models. This is currently outside the scope of this course, but it is important to remember that a model is only as good as the data we give it, the parameters we choose, and the assumptions we make."
    },
    {
      "metadata": {
        "trusted": true
      },
      "cell_type": "code",
      "source": "# Repeating step 3 using linear_model.LogisticRegression(C=200)'!\n\nimport numpy as np\nfrom sklearn import linear_model\n\n###--- REPLACE THE ??? WITH THE NUMBER OF GOALS YOU WANT TO EVALUATE ---###\np = ???\n###\n\n# Here we build the new logistic regression model.\n\n###--- REPLACE ??? BELOW WITH linear_model.LogisticRegression(C=200) TO BUILD A LOGISTIC REGRESSION MODEL ---###\nclf = ???\n###\n\n# This step fits (calculates) the model\n# We are using our feature (x - number of goals scored) and our outcome/label (y - won/lost)\nclf.fit(x[:, np.newaxis], y)\n\n# This works out the loss\ndef sigmoid(x):\n    return 1 / (1 + np.exp(-x))\nX_test = np.linspace(0, 3, 300)\nloss = sigmoid(X_test * clf.coef_ + clf.intercept_).ravel()\n\n# This makes the prediction for your chosen number of goals.\nprobOfWinning = clf.predict_proba(p)[0][1]\n\n# This prints out the result.\nprint(\"Probability of winning this year\")\nprint(str(probOfWinning * 100) + \"%\")\n\n# This plots the result.\ngraph.scatter(x, y, c = y, marker = 'D')\ngraph.yticks([0, probOfWinning, 1], ['No = 0.0', round(probOfWinning,3), 'Yes = 1.0'])\ngraph.plot(X_test, loss, color = 'gold', linewidth = 3)\n\ngraph.plot(p, probOfWinning, 'ko') # result point\ngraph.plot(np.linspace(0, p, 2), np.full([2],probOfWinning), dashes = [6, 3], color = 'black') # dashed lines (to y-axis)\ngraph.plot(np.full([2],p), np.linspace(0, probOfWinning, 2), dashes = [6, 3], color = 'black') # dashed lines (to x-axis)\n\ngraph.ylabel(\"Competition Win Likelihood\")\ngraph.xlabel(\"Average number of goals per match\")\ngraph.show()",
      "execution_count": null,
      "outputs": []
    },
    {
      "metadata": {
        "trusted": true
      },
      "cell_type": "code",
      "source": "",
      "execution_count": null,
      "outputs": []
    }
  ],
  "metadata": {
    "kernelspec": {
      "name": "python36",
      "display_name": "Python 3.6",
      "language": "python"
    },
    "language_info": {
      "mimetype": "text/x-python",
      "nbconvert_exporter": "python",
      "name": "python",
      "pygments_lexer": "ipython3",
      "version": "3.6.3",
      "file_extension": ".py",
      "codemirror_mode": {
        "version": 3,
        "name": "ipython"
      }
    }
  },
  "nbformat": 4,
  "nbformat_minor": 2
}