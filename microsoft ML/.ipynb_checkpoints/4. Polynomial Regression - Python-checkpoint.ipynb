{
  "cells": [
    {
      "metadata": {},
      "cell_type": "markdown",
      "source": "Exercise 4 - Polynomial Regression\n========\n\nSometimes our data doesn't have a linear relationship, but we still want to predict an outcome.\n\nSuppose we want to predict how satisfied people might be with a piece of fruit, we would expect satisfaction would be low if the fruit was under ripened or over ripened. Satisfaction would be high in between underripened and overripened.\n\nThis is not something linear regression will help us with, so we can turn to polynomial regression to help us make predictions for these more complex non-linear relationships!"
    },
    {
      "metadata": {},
      "cell_type": "markdown",
      "source": "Step 1\n------\n\nIn this exercise we will look at a dataset analysing internet traffic over the course of the day. Observations were made every hour over the course of several days. Suppose we want to predict the level of traffic we might see at any time during the day, how might we do this?\n\nLet's start by opening up our data and having a look at it."
    },
    {
      "metadata": {
        "trusted": true
      },
      "cell_type": "code",
      "source": "# This sets up the graphing configuration\nimport warnings\nwarnings.filterwarnings(\"ignore\")\nimport matplotlib.pyplot as graph\n%matplotlib inline\ngraph.rcParams['figure.figsize'] = (15,5)\ngraph.rcParams[\"font.family\"] = \"DejaVu Sans\"\ngraph.rcParams[\"font.size\"] = \"12\"\ngraph.rcParams['image.cmap'] = 'rainbow'\ngraph.rcParams['axes.facecolor'] = 'white'\ngraph.rcParams['figure.facecolor'] = 'white'",
      "execution_count": null,
      "outputs": []
    },
    {
      "metadata": {
        "trusted": true
      },
      "cell_type": "code",
      "source": "import numpy as np\nimport pandas as pd\n\ndata = pd.read_csv('Data/traffic_by_hour.csv')\n\n###--- BELOW, WRITE print(data) TO VIEW THE DATASET ---###\n\n###",
      "execution_count": null,
      "outputs": []
    },
    {
      "metadata": {},
      "cell_type": "markdown",
      "source": "Step 2\n-----\n\nNext we're going to flip the data with the transpose method - our rows will become columns and our columns will become rows. Transpose is commonly used to reshape data so we can use it. Let's try it out."
    },
    {
      "metadata": {
        "trusted": true
      },
      "cell_type": "code",
      "source": "### REPLACE THE ??? BELOW WITH transpose\ndata_t = np.???(data)\n\nprint(data_t)",
      "execution_count": null,
      "outputs": []
    },
    {
      "metadata": {
        "scrolled": true,
        "trusted": true
      },
      "cell_type": "code",
      "source": "# Let's visualise the data!\n\n###--- REPLACE ??? BELOW WITH sample ---###\nfor sample in range(0,data_t.shape[1]):\n    graph.plot(data.columns.values, data_t[???])\n###\n\ngraph.xlabel('Time of day')\ngraph.ylabel('Internet traffic (Gbps)')\ngraph.show()",
      "execution_count": null,
      "outputs": []
    },
    {
      "metadata": {},
      "cell_type": "markdown",
      "source": "Step 3\n-----\n\nThis all looks a bit busy, let's see if we can draw out a clearer pattern by taking the __average values__ for each hour."
    },
    {
      "metadata": {
        "trusted": true
      },
      "cell_type": "code",
      "source": "# We want to look at the mean values for each hour.\n\nhours = data.columns.values\n\n###--- REPLACE THE ???s BELOW WITH hour ---###\ny = [data[???].mean() for ??? in hours]  # This will be our outcome we measure - amount of internet traffic\nx = np.transpose([int(???) for ??? in hours]) # This is our feature - time of day\n###\n\n# This makes our graph, don't edit!\ngraph.scatter(x, y)\nfor sample in range(0,data_t.shape[1]):\n    graph.plot(hours, data_t[sample], alpha=0.25)\ngraph.xlabel('Time of day')\ngraph.ylabel('Internet traffic (Gbps)')\ngraph.show()",
      "execution_count": null,
      "outputs": []
    },
    {
      "metadata": {},
      "cell_type": "markdown",
      "source": "This alone could help us make a prediction if we wanted to know the expected traffic exactly on the hour.\n\nBut, we'll need to be a bit more clever if we want to make a __good__ prediction of times in-between."
    },
    {
      "metadata": {},
      "cell_type": "markdown",
      "source": "Step 4\n------\n\nLet's use the midpoints in between the hours to help us analyse the relationship between the time of day and the amount of internet traffic.\n\nNumpy's `polyfit(x,y,d)` function allows us to do just this. We specify a feature $x$ (time of day), our outcome $y$ (the amount of traffic), and the degree $d$ of the polynomial (how curvy the line is)."
    },
    {
      "metadata": {
        "trusted": true
      },
      "cell_type": "code",
      "source": "# Polynomials of degree 1 are linear!\n# Lets include this one just for comparison\n\n###--- REPLACE THE ??? BELOW WITH 1 ---###\np1 = np.polyfit(x, y, ???)\n###",
      "execution_count": null,
      "outputs": []
    },
    {
      "metadata": {
        "scrolled": true,
        "trusted": true
      },
      "cell_type": "code",
      "source": "# Let's also compare a few higher-degree polynomials\n\n###--- REPLACE THE ???'s BELOW WITH 2, 3, AND THEN 4 ---###\np2 = np.polyfit(x, y, ???)\np3 = np.polyfit(x, y, ???)\np4 = np.polyfit(x, y, ???)\n###\n\n# Let's plot it!\ngraph.scatter(x, y)\nxp = np.linspace(0, 24, 100)\n\n# black dashed linear degree 1\ngraph.plot(xp, np.polyval(p1, xp), 'k--')\n# red degree 2\ngraph.plot(xp, np.polyval(p2, xp), 'r-')\n# blue degree 3\ngraph.plot(xp, np.polyval(p3, xp), 'b-') \n# yellow degree 4\ngraph.plot(xp, np.polyval(p4, xp), 'y-') \n\ngraph.xticks(x, data.columns.values)\ngraph.xlabel('time of day')\ngraph.ylabel('internet traffic (Gbps)')\ngraph.show()",
      "execution_count": null,
      "outputs": []
    },
    {
      "metadata": {},
      "cell_type": "markdown",
      "source": "None of these polynomials do a great job of generalising the data. Let's try a few more."
    },
    {
      "metadata": {
        "trusted": true
      },
      "cell_type": "code",
      "source": "###--- REPLACE THE ???'S 5, 6, AND 7 ---###\np5 = np.polyfit(x, y, ???)\np6 = np.polyfit(x, y, ???)\np7 = np.polyfit(x, y, ???)\n###\n\n# Let's plot it!\ngraph.scatter(x, y)\nxp = np.linspace(0, 24, 100)\n\n# black dashed linear degree 1\ngraph.plot(xp, np.polyval(p1, xp), 'k--')\n# red degree 5\ngraph.plot(xp, np.polyval(p5, xp), 'r-') \n# blue degree 6\ngraph.plot(xp, np.polyval(p6, xp), 'b-') \n# yellow degree 7\ngraph.plot(xp, np.polyval(p7, xp), 'y-') \n\ngraph.xticks(x, data.columns.values)\ngraph.xlabel('Time of day')\ngraph.ylabel('Internet traffic (Gbps)')\ngraph.show()",
      "execution_count": null,
      "outputs": []
    },
    {
      "metadata": {},
      "cell_type": "markdown",
      "source": "It looks like the 5th and 6th degree polynomials have an identical curve. This looks like a good curve to use.\n\nWe could perhaps use an even higher degree polynomial to fit it even more tightly, but we don't want to overfit the curve, since we want just a generalisation of the relationship.\n\nLet's see how our degree 6 polynomial compares to the real data."
    },
    {
      "metadata": {
        "trusted": true
      },
      "cell_type": "code",
      "source": "for row in range(0,data_t.shape[1]):\n    graph.plot(data.columns.values, data_t[row], alpha = 0.5)\n\n###--- REPLACE ??? BELOW WITH p6 - THE POLYNOMIAL WE WISH TO VISUALIZE ---###    \ngraph.plot(xp, np.polyval(???, xp), 'k-')\n###\n\ngraph.xlabel('Time of day')\ngraph.ylabel('Internet traffic (Gbps)')\ngraph.show()",
      "execution_count": null,
      "outputs": []
    },
    {
      "metadata": {},
      "cell_type": "markdown",
      "source": "Step 5\n------\n\nNow let's try using this model to make a prediction for a time between 00 and 24."
    },
    {
      "metadata": {
        "trusted": true
      },
      "cell_type": "code",
      "source": "###--- REPLACE ??? BELOW WITH 12.5 (this represents the time 12:30) ---###\nt = ???\n###\n\n###--- REPLACE ??? BELOW WITH p6 SO WE CAN VISUALIZE THE 6TH DEGREE POLYNOMIAL MODEL. ---###\npred = np.polyval(???, t)\n###\n\nprint(\"at t=%s, predicted internet traffic is %s Gbps\"%(t,pred))\n\n# Now let's visualise it\ngraph.plot(xp, np.polyval(p6, xp), 'y-')\n\ngraph.plot(t, pred, 'ko') # result point\ngraph.plot(np.linspace(0, t, 2), np.full([2], pred), dashes=[6, 3], color='black') # dashed lines (to y-axis)\ngraph.plot(np.full([2], t), np.linspace(0, pred, 2), dashes=[6, 3], color='black') # dashed lines (to x-axis)\n\ngraph.xticks(x, data.columns.values)\ngraph.ylim(0, 60)\ngraph.title('expected traffic throughout the day')\ngraph.xlabel('time of day')\ngraph.ylabel('internet traffic (Gbps)')\n\ngraph.show()",
      "execution_count": null,
      "outputs": []
    },
    {
      "metadata": {},
      "cell_type": "markdown",
      "source": "Conclusion\n-----\n\nAnd there we have it! You have made a polynomial regression model and used it for analysis! This models gives us a prediction for the level of internet traffic we should expect to see at any given time of day.\n\nYou can go back to the course and either click __'Next Step'__ to start an optional step with tips on how to better work with AI models, or you can go to the next module where instead of predicting numbers we predict categories."
    },
    {
      "metadata": {
        "trusted": true
      },
      "cell_type": "code",
      "source": "",
      "execution_count": null,
      "outputs": []
    }
  ],
  "metadata": {
    "kernelspec": {
      "name": "python36",
      "display_name": "Python 3.6",
      "language": "python"
    },
    "language_info": {
      "mimetype": "text/x-python",
      "nbconvert_exporter": "python",
      "name": "python",
      "pygments_lexer": "ipython3",
      "version": "3.6.3",
      "file_extension": ".py",
      "codemirror_mode": {
        "version": 3,
        "name": "ipython"
      }
    }
  },
  "nbformat": 4,
  "nbformat_minor": 2
}