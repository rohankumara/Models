{
  "cells": [
    {
      "metadata": {
        "collapsed": true
      },
      "cell_type": "markdown",
      "source": "Exercise 2 - Simple Linear Regression\n=====================\n\nWe want to know how to make our chocolate-bar customers happier. To do this, we need to know which chocolate bar _features_ predict customer happiness. For example, customers may be happier when chocolate bars are bigger, or when they contain more cocoa. \n\nWe have data on customer happiness when eating chocolate bars with different features. Lets look at the relationship between happiness and bar size.\n\nStep 1\n--\n\nFirstly, lets have a look at our data. Below, write `print(data)` to see the table of data we have."
    },
    {
      "metadata": {
        "scrolled": true,
        "trusted": true
      },
      "cell_type": "code",
      "source": "import warnings\nwarnings.filterwarnings(\"ignore\")\nimport pandas as pd\nimport matplotlib.pyplot as graph\nimport statsmodels.formula.api as smf\nfrom scipy import stats\n\ndata = pd.read_csv('Data/chocolate data.txt', index_col=False, sep=\"\\t\",header=0)\n    \n### BELOW, WRITE print(data)\n\n###",
      "execution_count": null,
      "outputs": []
    },
    {
      "metadata": {},
      "cell_type": "markdown",
      "source": "We can see that we have tried 100 different variations of chocolate bars and measured customer happiness for each one. \n\nStep 2\n--\n\nWe want to know which chocolate bar features make customers happy.\n\nThe example below shows a linear regression between __cocoa percentage__ and __happiness__. Run the code to visualise this."
    },
    {
      "metadata": {
        "trusted": true
      },
      "cell_type": "code",
      "source": "# DO NOT EDIT ANY OF THIS CODE\ndef PerformLinearRegression(formula):\n\n    # This performs linear regression\n    lm = smf.ols(formula = formula, data = data).fit()\n\n    featureName=formula.split(\" \")[-1]\n    \n    # get the data for the x parameter\n    x=data[featureName]\n    \n    # This makes and shows a graph\n    intercept=lm.params[0]\n    slope=lm.params[1]\n    line = slope * x + intercept\n    graph.plot(x, line, '-', c = 'red')\n    graph.scatter(x, data.customer_happiness)\n    graph.ylabel('customer_happiness')\n    graph.xlabel(featureName)\n    graph.show()\n\n# This performs the linear regression steps listed above\n# The text in red is the formula for our regression\nPerformLinearRegression('customer_happiness ~ cocoa_percent')",
      "execution_count": null,
      "outputs": []
    },
    {
      "metadata": {},
      "cell_type": "markdown",
      "source": "It seems that __more cocoa makes customers more happy__. We can tell, because as we increase the amount of cocoa (x axis) the amount of customer happiness (y axis) increases. \n\nStep 3\n------\n\nLet's look at some other features.\n\nBelow, change the code from __`cocoa_percent`__ to __`weight`__ to see if heavier chocolate bars make people happier. Also try `sugar_percent` and  `milk_percent` to see if these improve customers' experiences."
    },
    {
      "metadata": {
        "trusted": true
      },
      "cell_type": "code",
      "source": "###--- CHANGE cocoa_percent TO weight IN THE LINE BELOW ---###\nPerformLinearRegression('customer_happiness ~ cocoa_percent')\n###",
      "execution_count": null,
      "outputs": []
    },
    {
      "metadata": {},
      "cell_type": "markdown",
      "source": "It looks like heavier chocolate bars make customers happier. The amount of milk or sugar, however, don't seem to make customers happier. \n\nConclusion\n---\nYou have run a simple linear regression. This told us that if we want to make a chocolate bar that will make customers happy, it should be large and contain a lot of cocoa.\n\nWell done! You can now go back to the course and click __'Next Step'__ to move onto using linear regression with multiple features."
    },
    {
      "metadata": {
        "trusted": true
      },
      "cell_type": "code",
      "source": "",
      "execution_count": null,
      "outputs": []
    }
  ],
  "metadata": {
    "kernelspec": {
      "name": "python36",
      "display_name": "Python 3.6",
      "language": "python"
    },
    "language_info": {
      "mimetype": "text/x-python",
      "nbconvert_exporter": "python",
      "name": "python",
      "pygments_lexer": "ipython3",
      "version": "3.6.3",
      "file_extension": ".py",
      "codemirror_mode": {
        "version": 3,
        "name": "ipython"
      }
    }
  },
  "nbformat": 4,
  "nbformat_minor": 2
}