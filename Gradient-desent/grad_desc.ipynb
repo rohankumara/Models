{
 "metadata": {
  "language_info": {
   "codemirror_mode": {
    "name": "ipython",
    "version": 3
   },
   "file_extension": ".py",
   "mimetype": "text/x-python",
   "name": "python",
   "nbconvert_exporter": "python",
   "pygments_lexer": "ipython3",
   "version": "3.8.6-final"
  },
  "orig_nbformat": 2,
  "kernelspec": {
   "name": "Python 3.8.6 64-bit",
   "display_name": "Python 3.8.6 64-bit",
   "metadata": {
    "interpreter": {
     "hash": "399668e9d6a3e6c15df21f3d609a2dc40040cedf029cfad4c36db2fd84760d36"
    }
   }
  }
 },
 "nbformat": 4,
 "nbformat_minor": 2,
 "cells": [
  {
   "cell_type": "code",
   "execution_count": 7,
   "metadata": {},
   "outputs": [],
   "source": [
    "%matplotlib notebook\n",
    "import pandas as pd\n",
    "import matplotlib.pyplot as plt"
   ]
  },
  {
   "cell_type": "code",
   "execution_count": 5,
   "metadata": {},
   "outputs": [
    {
     "output_type": "execute_result",
     "data": {
      "text/plain": [
       "    Hours  Scores  Pass\n",
       "0     2.3      18     0\n",
       "1     5.0      45     1\n",
       "2     3.2      25     0\n",
       "3     8.5      72     1\n",
       "4     3.5      30     0\n",
       "5     1.5      20     0\n",
       "6     9.2      88     1\n",
       "7     5.5      60     1\n",
       "8     8.3      81     1\n",
       "9     2.7      25     0\n",
       "10    7.7      85     1\n",
       "11    5.9      62     1\n",
       "12    4.5      41     1\n",
       "13    3.4      44     1\n",
       "14    1.1      17     0\n",
       "15    8.9      95     1\n",
       "16    2.5      30     0\n",
       "17    1.9      24     0\n",
       "18    6.1      67     1\n",
       "19    7.4      69     1\n",
       "20    2.7      30     0\n",
       "21    4.8      54     1\n",
       "22    3.7      33     0\n",
       "23    6.8      70     1\n",
       "24    7.4      85     1"
      ],
      "text/html": "<div>\n<style scoped>\n    .dataframe tbody tr th:only-of-type {\n        vertical-align: middle;\n    }\n\n    .dataframe tbody tr th {\n        vertical-align: top;\n    }\n\n    .dataframe thead th {\n        text-align: right;\n    }\n</style>\n<table border=\"1\" class=\"dataframe\">\n  <thead>\n    <tr style=\"text-align: right;\">\n      <th></th>\n      <th>Hours</th>\n      <th>Scores</th>\n      <th>Pass</th>\n    </tr>\n  </thead>\n  <tbody>\n    <tr>\n      <th>0</th>\n      <td>2.3</td>\n      <td>18</td>\n      <td>0</td>\n    </tr>\n    <tr>\n      <th>1</th>\n      <td>5.0</td>\n      <td>45</td>\n      <td>1</td>\n    </tr>\n    <tr>\n      <th>2</th>\n      <td>3.2</td>\n      <td>25</td>\n      <td>0</td>\n    </tr>\n    <tr>\n      <th>3</th>\n      <td>8.5</td>\n      <td>72</td>\n      <td>1</td>\n    </tr>\n    <tr>\n      <th>4</th>\n      <td>3.5</td>\n      <td>30</td>\n      <td>0</td>\n    </tr>\n    <tr>\n      <th>5</th>\n      <td>1.5</td>\n      <td>20</td>\n      <td>0</td>\n    </tr>\n    <tr>\n      <th>6</th>\n      <td>9.2</td>\n      <td>88</td>\n      <td>1</td>\n    </tr>\n    <tr>\n      <th>7</th>\n      <td>5.5</td>\n      <td>60</td>\n      <td>1</td>\n    </tr>\n    <tr>\n      <th>8</th>\n      <td>8.3</td>\n      <td>81</td>\n      <td>1</td>\n    </tr>\n    <tr>\n      <th>9</th>\n      <td>2.7</td>\n      <td>25</td>\n      <td>0</td>\n    </tr>\n    <tr>\n      <th>10</th>\n      <td>7.7</td>\n      <td>85</td>\n      <td>1</td>\n    </tr>\n    <tr>\n      <th>11</th>\n      <td>5.9</td>\n      <td>62</td>\n      <td>1</td>\n    </tr>\n    <tr>\n      <th>12</th>\n      <td>4.5</td>\n      <td>41</td>\n      <td>1</td>\n    </tr>\n    <tr>\n      <th>13</th>\n      <td>3.4</td>\n      <td>44</td>\n      <td>1</td>\n    </tr>\n    <tr>\n      <th>14</th>\n      <td>1.1</td>\n      <td>17</td>\n      <td>0</td>\n    </tr>\n    <tr>\n      <th>15</th>\n      <td>8.9</td>\n      <td>95</td>\n      <td>1</td>\n    </tr>\n    <tr>\n      <th>16</th>\n      <td>2.5</td>\n      <td>30</td>\n      <td>0</td>\n    </tr>\n    <tr>\n      <th>17</th>\n      <td>1.9</td>\n      <td>24</td>\n      <td>0</td>\n    </tr>\n    <tr>\n      <th>18</th>\n      <td>6.1</td>\n      <td>67</td>\n      <td>1</td>\n    </tr>\n    <tr>\n      <th>19</th>\n      <td>7.4</td>\n      <td>69</td>\n      <td>1</td>\n    </tr>\n    <tr>\n      <th>20</th>\n      <td>2.7</td>\n      <td>30</td>\n      <td>0</td>\n    </tr>\n    <tr>\n      <th>21</th>\n      <td>4.8</td>\n      <td>54</td>\n      <td>1</td>\n    </tr>\n    <tr>\n      <th>22</th>\n      <td>3.7</td>\n      <td>33</td>\n      <td>0</td>\n    </tr>\n    <tr>\n      <th>23</th>\n      <td>6.8</td>\n      <td>70</td>\n      <td>1</td>\n    </tr>\n    <tr>\n      <th>24</th>\n      <td>7.4</td>\n      <td>85</td>\n      <td>1</td>\n    </tr>\n  </tbody>\n</table>\n</div>"
     },
     "metadata": {},
     "execution_count": 5
    }
   ],
   "source": [
    "df = pd.read_csv(\"student_scores.csv\")\n",
    "df"
   ]
  },
  {
   "cell_type": "code",
   "execution_count": null,
   "metadata": {},
   "outputs": [],
   "source": [
    "x = df[\"Hours\"]\n",
    "y = df[\"Scores\"]\n",
    "plt.plot(x,y,'o')\n"
   ]
  }
 ]
}